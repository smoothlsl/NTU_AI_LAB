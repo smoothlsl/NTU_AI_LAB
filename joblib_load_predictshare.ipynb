{
 "cells": [
  {
   "cell_type": "code",
   "execution_count": 1,
   "id": "552faf5c",
   "metadata": {},
   "outputs": [],
   "source": [
    "import joblib"
   ]
  },
  {
   "cell_type": "code",
   "execution_count": 2,
   "id": "dcc1a361",
   "metadata": {},
   "outputs": [],
   "source": [
    "model = joblib.load(\"predictshare\")"
   ]
  },
  {
   "cell_type": "code",
   "execution_count": 7,
   "id": "64213719",
   "metadata": {},
   "outputs": [],
   "source": [
    "pred = model.predict([[0, 0.14, 0.14]])"
   ]
  },
  {
   "cell_type": "code",
   "execution_count": 8,
   "id": "3da5020d",
   "metadata": {},
   "outputs": [
    {
     "name": "stdout",
     "output_type": "stream",
     "text": [
      "[1]\n"
     ]
    }
   ],
   "source": [
    "print(pred)"
   ]
  },
  {
   "cell_type": "code",
   "execution_count": null,
   "id": "85693473",
   "metadata": {},
   "outputs": [],
   "source": []
  }
 ],
 "metadata": {
  "kernelspec": {
   "display_name": "Python 3 (ipykernel)",
   "language": "python",
   "name": "python3"
  },
  "language_info": {
   "codemirror_mode": {
    "name": "ipython",
    "version": 3
   },
   "file_extension": ".py",
   "mimetype": "text/x-python",
   "name": "python",
   "nbconvert_exporter": "python",
   "pygments_lexer": "ipython3",
   "version": "3.9.7"
  }
 },
 "nbformat": 4,
 "nbformat_minor": 5
}
