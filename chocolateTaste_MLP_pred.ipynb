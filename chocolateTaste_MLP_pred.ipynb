{
 "cells": [
  {
   "cell_type": "code",
   "execution_count": 1,
   "id": "d9114905",
   "metadata": {},
   "outputs": [],
   "source": [
    "import pandas"
   ]
  },
  {
   "cell_type": "code",
   "execution_count": 3,
   "id": "f74c19f2",
   "metadata": {},
   "outputs": [],
   "source": [
    "d = pandas.read_csv(\"ChocolateTaste.csv\")"
   ]
  },
  {
   "cell_type": "code",
   "execution_count": 4,
   "id": "a9f1ac60",
   "metadata": {},
   "outputs": [],
   "source": [
    "X = d.loc[:, [\"Sugar\", \"Milk\"]]"
   ]
  },
  {
   "cell_type": "code",
   "execution_count": 5,
   "id": "6c87a5f4",
   "metadata": {},
   "outputs": [],
   "source": [
    "Y = d.loc[:, [\"Taste\"]]"
   ]
  },
  {
   "cell_type": "code",
   "execution_count": 6,
   "id": "cd2ce206",
   "metadata": {},
   "outputs": [],
   "source": [
    "from sklearn.neural_network import MLPClassifier"
   ]
  },
  {
   "cell_type": "code",
   "execution_count": 8,
   "id": "789f5a2b",
   "metadata": {},
   "outputs": [],
   "source": [
    "model = MLPClassifier(solver = \"lbfgs\", hidden_layer_sizes = (6,2))"
   ]
  },
  {
   "cell_type": "code",
   "execution_count": 9,
   "id": "267cb9a6",
   "metadata": {},
   "outputs": [
    {
     "name": "stderr",
     "output_type": "stream",
     "text": [
      "C:\\Users\\10642\\anaconda3\\lib\\site-packages\\sklearn\\utils\\validation.py:63: DataConversionWarning: A column-vector y was passed when a 1d array was expected. Please change the shape of y to (n_samples, ), for example using ravel().\n",
      "  return f(*args, **kwargs)\n"
     ]
    },
    {
     "data": {
      "text/plain": [
       "MLPClassifier(hidden_layer_sizes=(6, 2), solver='lbfgs')"
      ]
     },
     "execution_count": 9,
     "metadata": {},
     "output_type": "execute_result"
    }
   ],
   "source": [
    "model.fit(X, Y)"
   ]
  },
  {
   "cell_type": "code",
   "execution_count": 12,
   "id": "10f9d615",
   "metadata": {},
   "outputs": [],
   "source": [
    "pred = model.predict(X)"
   ]
  },
  {
   "cell_type": "code",
   "execution_count": 13,
   "id": "767bece9",
   "metadata": {},
   "outputs": [],
   "source": [
    "from sklearn.metrics import confusion_matrix"
   ]
  },
  {
   "cell_type": "code",
   "execution_count": 14,
   "id": "3a3e1531",
   "metadata": {},
   "outputs": [],
   "source": [
    "cm = confusion_matrix(Y, pred)"
   ]
  },
  {
   "cell_type": "code",
   "execution_count": 15,
   "id": "6ba2392c",
   "metadata": {},
   "outputs": [
    {
     "name": "stdout",
     "output_type": "stream",
     "text": [
      "[[3 0]\n",
      " [0 4]]\n"
     ]
    }
   ],
   "source": [
    "print(cm)"
   ]
  },
  {
   "cell_type": "code",
   "execution_count": 16,
   "id": "316153c1",
   "metadata": {},
   "outputs": [],
   "source": [
    "import joblib"
   ]
  },
  {
   "cell_type": "code",
   "execution_count": 17,
   "id": "0789a9aa",
   "metadata": {},
   "outputs": [
    {
     "data": {
      "text/plain": [
       "['chocolateTaste']"
      ]
     },
     "execution_count": 17,
     "metadata": {},
     "output_type": "execute_result"
    }
   ],
   "source": [
    "joblib.dump(model, \"chocolateTaste\")"
   ]
  },
  {
   "cell_type": "code",
   "execution_count": null,
   "id": "619bbb13",
   "metadata": {},
   "outputs": [],
   "source": []
  }
 ],
 "metadata": {
  "kernelspec": {
   "display_name": "Python 3 (ipykernel)",
   "language": "python",
   "name": "python3"
  },
  "language_info": {
   "codemirror_mode": {
    "name": "ipython",
    "version": 3
   },
   "file_extension": ".py",
   "mimetype": "text/x-python",
   "name": "python",
   "nbconvert_exporter": "python",
   "pygments_lexer": "ipython3",
   "version": "3.9.7"
  }
 },
 "nbformat": 4,
 "nbformat_minor": 5
}
