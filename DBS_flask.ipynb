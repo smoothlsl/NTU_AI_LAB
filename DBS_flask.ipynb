{
 "cells": [
  {
   "cell_type": "code",
   "execution_count": 1,
   "id": "ed7abd3d",
   "metadata": {},
   "outputs": [],
   "source": [
    "from flask import Flask"
   ]
  },
  {
   "cell_type": "code",
   "execution_count": 2,
   "id": "9bd26f2c",
   "metadata": {},
   "outputs": [],
   "source": [
    "app = Flask(__name__)"
   ]
  },
  {
   "cell_type": "code",
   "execution_count": 3,
   "id": "7575ec1e",
   "metadata": {},
   "outputs": [],
   "source": [
    "from flask import request,render_template\n",
    "import joblib\n",
    "@app.route(\"/\", methods = [\"GET\", \"POST\"])\n",
    "def i():\n",
    "    if request.method == \"POST\":\n",
    "        name = request.form.get(\"name\")\n",
    "        rates = request.form.get(\"rates\")\n",
    "        print(name, rates)\n",
    "        model = joblib.load(\"DBS Regression Model\")\n",
    "        pred = model.predict([[rates]])\n",
    "        pred = pred[0][0]\n",
    "        s = \"The predict DBS share price is : \"+str(pred)\n",
    "        return(render_template(\"main.html\", results = s))\n",
    "    else:\n",
    "        return(render_template(\"main.html\", results = \"DBS Share Price\"))"
   ]
  },
  {
   "cell_type": "code",
   "execution_count": 4,
   "id": "74ef05d6",
   "metadata": {},
   "outputs": [
    {
     "name": "stdout",
     "output_type": "stream",
     "text": [
      " * Serving Flask app \"__main__\" (lazy loading)\n",
      " * Environment: production\n",
      "\u001b[31m   WARNING: This is a development server. Do not use it in a production deployment.\u001b[0m\n",
      "\u001b[2m   Use a production WSGI server instead.\u001b[0m\n",
      " * Debug mode: off\n"
     ]
    },
    {
     "name": "stderr",
     "output_type": "stream",
     "text": [
      " * Running on http://127.0.0.1:5000/ (Press CTRL+C to quit)\n",
      "127.0.0.1 - - [07/Feb/2022 10:11:22] \"GET / HTTP/1.1\" 200 -\n",
      "127.0.0.1 - - [07/Feb/2022 10:11:22] \"GET /favicon.ico HTTP/1.1\" 404 -\n"
     ]
    },
    {
     "name": "stdout",
     "output_type": "stream",
     "text": [
      "liu 1.4\n"
     ]
    },
    {
     "name": "stderr",
     "output_type": "stream",
     "text": [
      "C:\\Users\\10642\\anaconda3\\lib\\site-packages\\sklearn\\utils\\validation.py:63: FutureWarning: Arrays of bytes/strings is being converted to decimal numbers if dtype='numeric'. This behavior is deprecated in 0.24 and will be removed in 1.1 (renaming of 0.26). Please convert your data to numeric values explicitly instead.\n",
      "  return f(*args, **kwargs)\n",
      "127.0.0.1 - - [07/Feb/2022 10:11:29] \"POST / HTTP/1.1\" 200 -\n",
      "127.0.0.1 - - [07/Feb/2022 10:11:29] \"GET /favicon.ico HTTP/1.1\" 404 -\n"
     ]
    }
   ],
   "source": [
    "app.run()"
   ]
  },
  {
   "cell_type": "code",
   "execution_count": null,
   "id": "0214f3c1",
   "metadata": {},
   "outputs": [],
   "source": []
  }
 ],
 "metadata": {
  "kernelspec": {
   "display_name": "Python 3 (ipykernel)",
   "language": "python",
   "name": "python3"
  },
  "language_info": {
   "codemirror_mode": {
    "name": "ipython",
    "version": 3
   },
   "file_extension": ".py",
   "mimetype": "text/x-python",
   "name": "python",
   "nbconvert_exporter": "python",
   "pygments_lexer": "ipython3",
   "version": "3.9.7"
  }
 },
 "nbformat": 4,
 "nbformat_minor": 5
}
