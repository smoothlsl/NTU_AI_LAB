{
 "cells": [
  {
   "cell_type": "code",
   "execution_count": 1,
   "id": "b9075354",
   "metadata": {},
   "outputs": [
    {
     "name": "stdout",
     "output_type": "stream",
     "text": [
      "0.6283698867042165\n"
     ]
    }
   ],
   "source": [
    "import pandas as pd\n",
    "df = pd.read_csv(\"DBS_SingDollar.csv\")\n",
    "X = df.loc[:, [\"SGD\"]]\n",
    "Y = df.loc[:, [\"DBS\"]]\n",
    "from sklearn import linear_model\n",
    "model = linear_model.LinearRegression().fit(X,Y)\n",
    "pred = model.predict(X)\n",
    "from sklearn.metrics import mean_squared_error\n",
    "print(mean_squared_error(Y, pred)**0.5)\n"
   ]
  },
  {
   "cell_type": "code",
   "execution_count": 2,
   "id": "81abdfa8",
   "metadata": {},
   "outputs": [
    {
     "data": {
      "text/plain": [
       "['DBS Regression Model']"
      ]
     },
     "execution_count": 2,
     "metadata": {},
     "output_type": "execute_result"
    }
   ],
   "source": [
    "import joblib\n",
    "joblib.dump(model, \"DBS Regression Model\")"
   ]
  },
  {
   "cell_type": "code",
   "execution_count": null,
   "id": "39ee6de1",
   "metadata": {},
   "outputs": [],
   "source": []
  }
 ],
 "metadata": {
  "kernelspec": {
   "display_name": "Python 3 (ipykernel)",
   "language": "python",
   "name": "python3"
  },
  "language_info": {
   "codemirror_mode": {
    "name": "ipython",
    "version": 3
   },
   "file_extension": ".py",
   "mimetype": "text/x-python",
   "name": "python",
   "nbconvert_exporter": "python",
   "pygments_lexer": "ipython3",
   "version": "3.9.7"
  }
 },
 "nbformat": 4,
 "nbformat_minor": 5
}
