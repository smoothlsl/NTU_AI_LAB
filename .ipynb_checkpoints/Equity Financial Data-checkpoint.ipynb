{
 "cells": [
  {
   "cell_type": "code",
   "execution_count": 1,
   "id": "5c35287a",
   "metadata": {},
   "outputs": [],
   "source": [
    "import pandas as pd"
   ]
  },
  {
   "cell_type": "code",
   "execution_count": 2,
   "id": "c1ba9674",
   "metadata": {},
   "outputs": [],
   "source": [
    "df = pd.read_csv(\"Equity Financial Data.csv\")"
   ]
  },
  {
   "cell_type": "code",
   "execution_count": 4,
   "id": "0343f3c5",
   "metadata": {},
   "outputs": [
    {
     "name": "stdout",
     "output_type": "stream",
     "text": [
      "                       Revenue  Revenue Growth  Cost of Revenue  Gross Profit  \\\n",
      "Revenue               1.000000       -0.003888         0.953776      0.814792   \n",
      "Revenue Growth       -0.003888        1.000000        -0.003486     -0.004546   \n",
      "Cost of Revenue       0.953776       -0.003486         1.000000      0.602771   \n",
      "Gross Profit          0.814792       -0.004546         0.602771      1.000000   \n",
      "R&D Expenses          0.364857       -0.001548         0.255188      0.476818   \n",
      "...                        ...             ...              ...           ...   \n",
      "Debt Growth          -0.005846       -0.000278        -0.005409     -0.005077   \n",
      "R&D Expense Growth   -0.024754        0.025981        -0.022671     -0.022043   \n",
      "SG&A Expenses Growth -0.019629        0.001786        -0.014628     -0.023978   \n",
      "2019 PRICE VAR [%]    0.005469       -0.003966         0.003440      0.007954   \n",
      "Class                 0.074649        0.009091         0.064732      0.080209   \n",
      "\n",
      "                      R&D Expenses  SG&A Expense  Operating Expenses  \\\n",
      "Revenue                   0.364857      0.701818            0.800419   \n",
      "Revenue Growth           -0.001548     -0.004128           -0.004347   \n",
      "Cost of Revenue           0.255188      0.524852            0.606764   \n",
      "Gross Profit              0.476818      0.849834            0.954889   \n",
      "R&D Expenses              1.000000      0.283933            0.429186   \n",
      "...                            ...           ...                 ...   \n",
      "Debt Growth              -0.003405     -0.005646           -0.006045   \n",
      "R&D Expense Growth        0.010074     -0.020872           -0.021264   \n",
      "SG&A Expenses Growth     -0.002251     -0.013577           -0.017724   \n",
      "2019 PRICE VAR [%]        0.013792      0.010676            0.002300   \n",
      "Class                     0.054678      0.080739            0.061149   \n",
      "\n",
      "                      Operating Income  Interest Expense  Earnings before Tax  \\\n",
      "Revenue                       0.640547          0.466919             0.651794   \n",
      "Revenue Growth               -0.005424         -0.004540            -0.005608   \n",
      "Cost of Revenue               0.447508          0.388579             0.466243   \n",
      "Gross Profit                  0.836190          0.491243             0.836414   \n",
      "R&D Expenses                  0.444115          0.110177             0.526304   \n",
      "...                                ...               ...                  ...   \n",
      "Debt Growth                  -0.001980         -0.001494            -0.002202   \n",
      "R&D Expense Growth           -0.018119         -0.024787            -0.016582   \n",
      "SG&A Expenses Growth         -0.029604         -0.019811            -0.025477   \n",
      "2019 PRICE VAR [%]            0.016383          0.002460             0.017898   \n",
      "Class                         0.098901          0.063589             0.099684   \n",
      "\n",
      "                      ...  3Y Dividend per Share Growth (per Share)  \\\n",
      "Revenue               ...                                  0.044971   \n",
      "Revenue Growth        ...                                 -0.000440   \n",
      "Cost of Revenue       ...                                  0.031091   \n",
      "Gross Profit          ...                                  0.060045   \n",
      "R&D Expenses          ...                                  0.023353   \n",
      "...                   ...                                       ...   \n",
      "Debt Growth           ...                                 -0.000557   \n",
      "R&D Expense Growth    ...                                 -0.000235   \n",
      "SG&A Expenses Growth  ...                                  0.021017   \n",
      "2019 PRICE VAR [%]    ...                                  0.006669   \n",
      "Class                 ...                                  0.091708   \n",
      "\n",
      "                      Receivables growth  Inventory Growth  Asset Growth  \\\n",
      "Revenue                        -0.003803         -0.005480     -0.008657   \n",
      "Revenue Growth                 -0.000288         -0.000071      0.000861   \n",
      "Cost of Revenue                -0.010798         -0.004201     -0.007044   \n",
      "Gross Profit                   -0.003987         -0.006455     -0.010283   \n",
      "R&D Expenses                   -0.003774         -0.002336     -0.004389   \n",
      "...                                  ...               ...           ...   \n",
      "Debt Growth                    -0.002031         -0.000648     -0.000473   \n",
      "R&D Expense Growth              0.001891          0.000793      0.001970   \n",
      "SG&A Expenses Growth            0.018274          0.024720      0.233725   \n",
      "2019 PRICE VAR [%]             -0.000776         -0.006947     -0.006324   \n",
      "Class                           0.010221          0.003202      0.017831   \n",
      "\n",
      "                      Book Value per Share Growth  Debt Growth  \\\n",
      "Revenue                                 -0.002757    -0.005846   \n",
      "Revenue Growth                           0.000247    -0.000278   \n",
      "Cost of Revenue                         -0.003846    -0.005409   \n",
      "Gross Profit                             0.000176    -0.005077   \n",
      "R&D Expenses                             0.009420    -0.003405   \n",
      "...                                           ...          ...   \n",
      "Debt Growth                              0.088453     1.000000   \n",
      "R&D Expense Growth                       0.005018    -0.001359   \n",
      "SG&A Expenses Growth                     0.121362     0.218084   \n",
      "2019 PRICE VAR [%]                      -0.005790     0.004517   \n",
      "Class                                   -0.022060     0.014161   \n",
      "\n",
      "                      R&D Expense Growth  SG&A Expenses Growth  \\\n",
      "Revenue                        -0.024754             -0.019629   \n",
      "Revenue Growth                  0.025981              0.001786   \n",
      "Cost of Revenue                -0.022671             -0.014628   \n",
      "Gross Profit                   -0.022043             -0.023978   \n",
      "R&D Expenses                    0.010074             -0.002251   \n",
      "...                                  ...                   ...   \n",
      "Debt Growth                    -0.001359              0.218084   \n",
      "R&D Expense Growth              1.000000              0.076639   \n",
      "SG&A Expenses Growth            0.076639              1.000000   \n",
      "2019 PRICE VAR [%]              0.006595             -0.006945   \n",
      "Class                          -0.020006             -0.037346   \n",
      "\n",
      "                      2019 PRICE VAR [%]     Class  \n",
      "Revenue                         0.005469  0.074649  \n",
      "Revenue Growth                 -0.003966  0.009091  \n",
      "Cost of Revenue                 0.003440  0.064732  \n",
      "Gross Profit                    0.007954  0.080209  \n",
      "R&D Expenses                    0.013792  0.054678  \n",
      "...                                  ...       ...  \n",
      "Debt Growth                     0.004517  0.014161  \n",
      "R&D Expense Growth              0.006595 -0.020006  \n",
      "SG&A Expenses Growth           -0.006945 -0.037346  \n",
      "2019 PRICE VAR [%]              1.000000  0.423306  \n",
      "Class                           0.423306  1.000000  \n",
      "\n",
      "[223 rows x 223 columns]\n"
     ]
    }
   ],
   "source": [
    "c = df.corr()"
   ]
  },
  {
   "cell_type": "code",
   "execution_count": 5,
   "id": "89aa715b",
   "metadata": {},
   "outputs": [],
   "source": [
    "c = c[\"Class\"]"
   ]
  },
  {
   "cell_type": "code",
   "execution_count": 6,
   "id": "b479b3d0",
   "metadata": {},
   "outputs": [],
   "source": [
    "c = abs(c)"
   ]
  },
  {
   "cell_type": "code",
   "execution_count": 8,
   "id": "dfbe3f25",
   "metadata": {},
   "outputs": [],
   "source": [
    "c = c[c>0.1]"
   ]
  },
  {
   "cell_type": "code",
   "execution_count": 10,
   "id": "eb62f15e",
   "metadata": {},
   "outputs": [],
   "source": [
    "df = df.iloc[:,150:225]"
   ]
  },
  {
   "cell_type": "code",
   "execution_count": 11,
   "id": "d5d4c8b4",
   "metadata": {},
   "outputs": [],
   "source": [
    "df = df.dropna() "
   ]
  },
  {
   "cell_type": "code",
   "execution_count": 12,
   "id": "7f3582d5",
   "metadata": {},
   "outputs": [],
   "source": [
    "X = df.iloc[:,0:50]"
   ]
  },
  {
   "cell_type": "code",
   "execution_count": 13,
   "id": "9fddd7dc",
   "metadata": {},
   "outputs": [],
   "source": [
    "Y = df.loc[:,[\"Class\"]]"
   ]
  },
  {
   "cell_type": "code",
   "execution_count": 14,
   "id": "c9297c25",
   "metadata": {},
   "outputs": [
    {
     "name": "stdout",
     "output_type": "stream",
     "text": [
      "[False False False False False False False False False False False False\n",
      " False False False  True False False False False  True False False False\n",
      " False  True False False False False False False False False False False\n",
      " False False False False False False False False False False False False\n",
      " False False]\n",
      "Index(['Intangibles to Total Assets', 'Graham Number', 'Tangible Asset Value'], dtype='object')\n"
     ]
    },
    {
     "name": "stderr",
     "output_type": "stream",
     "text": [
      "C:\\Users\\10642\\anaconda3\\lib\\site-packages\\sklearn\\utils\\validation.py:63: DataConversionWarning: A column-vector y was passed when a 1d array was expected. Please change the shape of y to (n_samples, ), for example using ravel().\n",
      "  return f(*args, **kwargs)\n"
     ]
    }
   ],
   "source": [
    "from sklearn.feature_selection import SelectKBest, f_regression\n",
    "features = SelectKBest(score_func=f_regression, k=3)\n",
    "fit = features.fit(X, Y)\n",
    "#print(data.columns, fit.scores_)\n",
    "mask = fit.get_support()\n",
    "print(mask)\n",
    "new_features = X.columns[mask]\n",
    "print(new_features[:])"
   ]
  },
  {
   "cell_type": "code",
   "execution_count": null,
   "id": "eef2e488",
   "metadata": {},
   "outputs": [],
   "source": []
  }
 ],
 "metadata": {
  "kernelspec": {
   "display_name": "Python 3 (ipykernel)",
   "language": "python",
   "name": "python3"
  },
  "language_info": {
   "codemirror_mode": {
    "name": "ipython",
    "version": 3
   },
   "file_extension": ".py",
   "mimetype": "text/x-python",
   "name": "python",
   "nbconvert_exporter": "python",
   "pygments_lexer": "ipython3",
   "version": "3.9.7"
  }
 },
 "nbformat": 4,
 "nbformat_minor": 5
}
