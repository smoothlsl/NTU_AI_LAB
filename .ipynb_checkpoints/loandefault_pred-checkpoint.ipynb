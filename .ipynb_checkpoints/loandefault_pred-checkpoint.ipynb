{
 "cells": [
  {
   "cell_type": "code",
   "execution_count": 2,
   "id": "fd224660",
   "metadata": {},
   "outputs": [],
   "source": [
    "import pandas as pd"
   ]
  },
  {
   "cell_type": "code",
   "execution_count": 3,
   "id": "6cc721cc",
   "metadata": {},
   "outputs": [],
   "source": [
    "df = pd.read_csv(\"LoanDefault.csv\")"
   ]
  },
  {
   "cell_type": "code",
   "execution_count": 4,
   "id": "c25ca506",
   "metadata": {},
   "outputs": [
    {
     "name": "stdout",
     "output_type": "stream",
     "text": [
      "       student      balance       income  default\n",
      "0            1   729.526495  44361.62507        0\n",
      "1            1     0.000000  12106.13470        0\n",
      "2            0  1073.549164   1000.00000        0\n",
      "3            0   529.250605  35704.49394        0\n",
      "4            0   785.655883  38463.49588        0\n",
      "...        ...          ...          ...      ...\n",
      "19329        0  2023.901815  23366.43473        1\n",
      "19330        0  1231.256092  21699.36877        1\n",
      "19331        0  2148.039015  36930.48554        1\n",
      "19332        0  1997.068621  39119.77676        1\n",
      "19333        0  1568.574866  48865.89708        1\n",
      "\n",
      "[19334 rows x 4 columns]\n"
     ]
    }
   ],
   "source": [
    "print(df)"
   ]
  },
  {
   "cell_type": "code",
   "execution_count": 5,
   "id": "be5ad3a3",
   "metadata": {},
   "outputs": [],
   "source": [
    "x = df.loc[:, [\"student\", \"balance\", \"income\"]]"
   ]
  },
  {
   "cell_type": "code",
   "execution_count": 6,
   "id": "52e63029",
   "metadata": {},
   "outputs": [],
   "source": [
    "y = df.loc[:, [\"default\"]]"
   ]
  },
  {
   "cell_type": "code",
   "execution_count": 7,
   "id": "c8b731c6",
   "metadata": {},
   "outputs": [
    {
     "name": "stdout",
     "output_type": "stream",
     "text": [
      "       student      balance       income\n",
      "0            1   729.526495  44361.62507\n",
      "1            1     0.000000  12106.13470\n",
      "2            0  1073.549164   1000.00000\n",
      "3            0   529.250605  35704.49394\n",
      "4            0   785.655883  38463.49588\n",
      "...        ...          ...          ...\n",
      "19329        0  2023.901815  23366.43473\n",
      "19330        0  1231.256092  21699.36877\n",
      "19331        0  2148.039015  36930.48554\n",
      "19332        0  1997.068621  39119.77676\n",
      "19333        0  1568.574866  48865.89708\n",
      "\n",
      "[19334 rows x 3 columns]        default\n",
      "0            0\n",
      "1            0\n",
      "2            0\n",
      "3            0\n",
      "4            0\n",
      "...        ...\n",
      "19329        1\n",
      "19330        1\n",
      "19331        1\n",
      "19332        1\n",
      "19333        1\n",
      "\n",
      "[19334 rows x 1 columns]\n"
     ]
    }
   ],
   "source": [
    "print(x,y)"
   ]
  },
  {
   "cell_type": "code",
   "execution_count": 8,
   "id": "351066ff",
   "metadata": {},
   "outputs": [],
   "source": [
    "from sklearn.model_selection import train_test_split"
   ]
  },
  {
   "cell_type": "code",
   "execution_count": 9,
   "id": "85406ab0",
   "metadata": {},
   "outputs": [],
   "source": [
    "x_train, x_test, y_train, y_test = train_test_split(x, y)"
   ]
  },
  {
   "cell_type": "code",
   "execution_count": 10,
   "id": "6f80c921",
   "metadata": {},
   "outputs": [
    {
     "name": "stdout",
     "output_type": "stream",
     "text": [
      "       student      balance       income\n",
      "10922        0  1620.530789  35486.64410\n",
      "1915         1  1061.755086  17502.81964\n",
      "12750        1  1823.977134  18108.11214\n",
      "10936        0  1765.137365  49450.82635\n",
      "9345         1   978.236904  15073.78785\n",
      "...        ...          ...          ...\n",
      "4962         0   681.693576  33327.11303\n",
      "4052         0  1235.777517  35140.45880\n",
      "3076         1  1785.797516  15291.67080\n",
      "11862        0  1973.046672  39049.48366\n",
      "4997         0  1997.172810  50273.60103\n",
      "\n",
      "[14500 rows x 3 columns]        student      balance       income\n",
      "905          0  1234.476479  31313.37458\n",
      "13431        0  1771.078488  48316.06709\n",
      "19251        1  2104.037603  17804.81192\n",
      "11475        0  1257.284467  27644.14667\n",
      "3389         1   915.653756  16888.81242\n",
      "...        ...          ...          ...\n",
      "2148         0   563.150192  43028.59720\n",
      "18112        1  1535.239176  18095.78116\n",
      "10234        0  1464.640525  36481.99661\n",
      "6459         1  1647.801283  15392.21298\n",
      "459          0   977.657621  43743.49673\n",
      "\n",
      "[4834 rows x 3 columns]\n"
     ]
    }
   ],
   "source": [
    "print(x_train,x_test)"
   ]
  },
  {
   "cell_type": "code",
   "execution_count": 11,
   "id": "f994a155",
   "metadata": {},
   "outputs": [],
   "source": [
    "from sklearn import linear_model"
   ]
  },
  {
   "cell_type": "code",
   "execution_count": 12,
   "id": "7454f747",
   "metadata": {},
   "outputs": [],
   "source": [
    "model = linear_model.LogisticRegression()"
   ]
  },
  {
   "cell_type": "code",
   "execution_count": 13,
   "id": "befed541",
   "metadata": {},
   "outputs": [
    {
     "name": "stderr",
     "output_type": "stream",
     "text": [
      "C:\\Users\\10642\\anaconda3\\lib\\site-packages\\sklearn\\utils\\validation.py:63: DataConversionWarning: A column-vector y was passed when a 1d array was expected. Please change the shape of y to (n_samples, ), for example using ravel().\n",
      "  return f(*args, **kwargs)\n"
     ]
    },
    {
     "data": {
      "text/plain": [
       "LogisticRegression()"
      ]
     },
     "execution_count": 13,
     "metadata": {},
     "output_type": "execute_result"
    }
   ],
   "source": [
    "model.fit(x_train, y_train)"
   ]
  },
  {
   "cell_type": "code",
   "execution_count": 14,
   "id": "f762e559",
   "metadata": {},
   "outputs": [
    {
     "name": "stdout",
     "output_type": "stream",
     "text": [
      "       default\n",
      "10922        1\n",
      "1915         0\n",
      "12750        1\n",
      "10936        1\n",
      "9345         0\n",
      "...        ...\n",
      "4962         0\n",
      "4052         0\n",
      "3076         0\n",
      "11862        1\n",
      "4997         0\n",
      "\n",
      "[14500 rows x 1 columns]\n"
     ]
    }
   ],
   "source": [
    "print(y_train)"
   ]
  },
  {
   "cell_type": "code",
   "execution_count": 15,
   "id": "37ff7d85",
   "metadata": {},
   "outputs": [],
   "source": [
    "pred = model.predict(x_train)"
   ]
  },
  {
   "cell_type": "code",
   "execution_count": 16,
   "id": "a4bfdc82",
   "metadata": {},
   "outputs": [
    {
     "name": "stdout",
     "output_type": "stream",
     "text": [
      "[1 1 1 ... 1 1 1]\n"
     ]
    }
   ],
   "source": [
    "print(pred)"
   ]
  },
  {
   "cell_type": "code",
   "execution_count": 17,
   "id": "dcaa8384",
   "metadata": {},
   "outputs": [],
   "source": [
    "from sklearn.metrics import confusion_matrix"
   ]
  },
  {
   "cell_type": "code",
   "execution_count": 18,
   "id": "d188d917",
   "metadata": {},
   "outputs": [],
   "source": [
    "cm = confusion_matrix(y_train, pred)"
   ]
  },
  {
   "cell_type": "code",
   "execution_count": 19,
   "id": "1a9152fb",
   "metadata": {},
   "outputs": [
    {
     "name": "stdout",
     "output_type": "stream",
     "text": [
      "[[4830 2442]\n",
      " [ 996 6232]]\n"
     ]
    }
   ],
   "source": [
    "print(cm)"
   ]
  },
  {
   "cell_type": "code",
   "execution_count": 20,
   "id": "375b01c8",
   "metadata": {},
   "outputs": [],
   "source": [
    "accuracy = (cm[0,0]+cm[1,1])/(sum(sum(cm)))"
   ]
  },
  {
   "cell_type": "code",
   "execution_count": 21,
   "id": "e341810c",
   "metadata": {},
   "outputs": [
    {
     "name": "stdout",
     "output_type": "stream",
     "text": [
      "[5826 8674] 14500\n"
     ]
    }
   ],
   "source": [
    "print(sum(cm),sum(sum(cm)))"
   ]
  },
  {
   "cell_type": "code",
   "execution_count": 22,
   "id": "d2d8c03f",
   "metadata": {},
   "outputs": [
    {
     "name": "stdout",
     "output_type": "stream",
     "text": [
      "0.762896551724138\n"
     ]
    }
   ],
   "source": [
    "print(accuracy)"
   ]
  }
 ],
 "metadata": {
  "kernelspec": {
   "display_name": "Python 3 (ipykernel)",
   "language": "python",
   "name": "python3"
  },
  "language_info": {
   "codemirror_mode": {
    "name": "ipython",
    "version": 3
   },
   "file_extension": ".py",
   "mimetype": "text/x-python",
   "name": "python",
   "nbconvert_exporter": "python",
   "pygments_lexer": "ipython3",
   "version": "3.9.7"
  }
 },
 "nbformat": 4,
 "nbformat_minor": 5
}
