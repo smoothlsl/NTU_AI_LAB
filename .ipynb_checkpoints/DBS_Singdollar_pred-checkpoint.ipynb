{
 "cells": [
  {
   "cell_type": "code",
   "execution_count": 19,
   "id": "a435c4f2",
   "metadata": {},
   "outputs": [],
   "source": [
    "import pandas as pd"
   ]
  },
  {
   "cell_type": "code",
   "execution_count": 20,
   "id": "5a8ba67d",
   "metadata": {},
   "outputs": [],
   "source": [
    "df = pd.read_csv(\"DBS_SingDollar.csv\")"
   ]
  },
  {
   "cell_type": "code",
   "execution_count": 21,
   "id": "c8f219a3",
   "metadata": {},
   "outputs": [],
   "source": [
    "x = df.loc[:, [\"SGD\"]]"
   ]
  },
  {
   "cell_type": "code",
   "execution_count": 28,
   "id": "ab341a4d",
   "metadata": {},
   "outputs": [
    {
     "name": "stdout",
     "output_type": "stream",
     "text": [
      "       DBS\n",
      "0    20.45\n",
      "1    20.60\n",
      "2    20.45\n",
      "3    20.41\n",
      "4    20.59\n",
      "..     ...\n",
      "117  17.09\n",
      "118  17.13\n",
      "119  17.22\n",
      "120  17.19\n",
      "121  17.14\n",
      "\n",
      "[122 rows x 1 columns]\n"
     ]
    }
   ],
   "source": [
    "y = df.loc[:, [\"DBS\"]]"
   ]
  },
  {
   "cell_type": "code",
   "execution_count": 23,
   "id": "8db28a1e",
   "metadata": {},
   "outputs": [],
   "source": [
    "from sklearn import linear_model"
   ]
  },
  {
   "cell_type": "code",
   "execution_count": 24,
   "id": "05744d56",
   "metadata": {},
   "outputs": [],
   "source": [
    "model = linear_model.LinearRegression()"
   ]
  },
  {
   "cell_type": "code",
   "execution_count": 25,
   "id": "bafc4b5b",
   "metadata": {},
   "outputs": [
    {
     "data": {
      "text/plain": [
       "LinearRegression()"
      ]
     },
     "execution_count": 25,
     "metadata": {},
     "output_type": "execute_result"
    }
   ],
   "source": [
    "model.fit(x,y)"
   ]
  },
  {
   "cell_type": "code",
   "execution_count": 29,
   "id": "3640518a",
   "metadata": {},
   "outputs": [
    {
     "name": "stdout",
     "output_type": "stream",
     "text": [
      "[[19.93122506]\n",
      " [20.04153512]\n",
      " [20.23533673]\n",
      " [20.20801222]\n",
      " [20.6042176 ]\n",
      " [20.31225016]\n",
      " [20.18473578]\n",
      " [20.196374  ]\n",
      " [20.26266124]\n",
      " [20.30466002]\n",
      " [20.43723449]\n",
      " [20.3198403 ]\n",
      " [20.3466588 ]\n",
      " [20.06885962]\n",
      " [20.23736076]\n",
      " [20.13109878]\n",
      " [20.06278751]\n",
      " [20.36335711]\n",
      " [20.0784738 ]\n",
      " [20.17107353]\n",
      " [19.8958044 ]\n",
      " [20.07442573]\n",
      " [20.13464085]\n",
      " [19.74298955]\n",
      " [19.90288853]\n",
      " [19.65342588]\n",
      " [19.51427329]\n",
      " [19.18789721]\n",
      " [19.00978189]\n",
      " [18.81648629]\n",
      " [19.08163523]\n",
      " [19.13628424]\n",
      " [19.35235027]\n",
      " [19.52692353]\n",
      " [19.70149678]\n",
      " [19.51933338]\n",
      " [19.53400766]\n",
      " [19.59068071]\n",
      " [19.68479847]\n",
      " [19.76120589]\n",
      " [19.56183818]\n",
      " [19.50263507]\n",
      " [19.47784061]\n",
      " [19.59776485]\n",
      " [19.49150286]\n",
      " [19.48897282]\n",
      " [19.56285019]\n",
      " [19.18283711]\n",
      " [19.1443804 ]\n",
      " [19.14741645]\n",
      " [19.28049693]\n",
      " [19.35336229]\n",
      " [19.47986465]\n",
      " [19.53400766]\n",
      " [19.56993433]\n",
      " [19.5041531 ]\n",
      " [19.68732851]\n",
      " [19.55070597]\n",
      " [19.69238861]\n",
      " [19.44545601]\n",
      " [19.40244521]\n",
      " [19.4611423 ]\n",
      " [19.42066154]\n",
      " [19.54513986]\n",
      " [19.28555703]\n",
      " [19.32603778]\n",
      " [19.27391881]\n",
      " [18.58169791]\n",
      " [18.63988899]\n",
      " [18.79371586]\n",
      " [18.30845282]\n",
      " [18.4951703 ]\n",
      " [18.81294422]\n",
      " [18.76234328]\n",
      " [18.86253314]\n",
      " [18.77347548]\n",
      " [18.92831437]\n",
      " [19.13426021]\n",
      " [19.17018688]\n",
      " [19.16107871]\n",
      " [19.00117973]\n",
      " [18.71781445]\n",
      " [18.35247564]\n",
      " [18.47999001]\n",
      " [18.425341  ]\n",
      " [18.54779528]\n",
      " [18.42281095]\n",
      " [18.37777611]\n",
      " [18.16474614]\n",
      " [18.34589751]\n",
      " [18.34184944]\n",
      " [18.5437472 ]\n",
      " [18.44760541]\n",
      " [18.92325427]\n",
      " [19.00978189]\n",
      " [18.81142619]\n",
      " [18.75778919]\n",
      " [18.90453193]\n",
      " [17.77916695]\n",
      " [18.07720651]\n",
      " [18.7370428 ]\n",
      " [18.31604296]\n",
      " [18.57866185]\n",
      " [18.01850941]\n",
      " [18.06354425]\n",
      " [17.9319818 ]\n",
      " [18.57714382]\n",
      " [17.85405635]\n",
      " [18.07568848]\n",
      " [18.0068712 ]\n",
      " [18.03217167]\n",
      " [17.53830646]\n",
      " [17.60155764]\n",
      " [17.39459979]\n",
      " [17.94665607]\n",
      " [17.39257575]\n",
      " [16.86126585]\n",
      " [17.03179102]\n",
      " [16.95133553]\n",
      " [16.8481096 ]\n",
      " [16.88049421]\n",
      " [16.97562398]]\n"
     ]
    }
   ],
   "source": [
    "pred = model.predict(x)"
   ]
  },
  {
   "cell_type": "code",
   "execution_count": 9,
   "id": "22820882",
   "metadata": {},
   "outputs": [],
   "source": [
    "from sklearn.metrics import mean_squared_error"
   ]
  },
  {
   "cell_type": "code",
   "execution_count": 10,
   "id": "cb11feae",
   "metadata": {},
   "outputs": [],
   "source": [
    "rmse = mean_squared_error(y,pred)**0.5"
   ]
  },
  {
   "cell_type": "code",
   "execution_count": 11,
   "id": "77d5a582",
   "metadata": {},
   "outputs": [
    {
     "name": "stdout",
     "output_type": "stream",
     "text": [
      "0.6283698867042165\n"
     ]
    }
   ],
   "source": [
    "print(rmse)"
   ]
  },
  {
   "cell_type": "code",
   "execution_count": 13,
   "id": "b81c3544",
   "metadata": {},
   "outputs": [
    {
     "name": "stdout",
     "output_type": "stream",
     "text": [
      "[[-50.60094302]]\n"
     ]
    }
   ],
   "source": [
    "print(model.coef_)"
   ]
  },
  {
   "cell_type": "code",
   "execution_count": 14,
   "id": "ce878900",
   "metadata": {},
   "outputs": [
    {
     "name": "stdout",
     "output_type": "stream",
     "text": [
      "[90.22858515]\n"
     ]
    }
   ],
   "source": [
    "print(model.intercept_)"
   ]
  },
  {
   "cell_type": "code",
   "execution_count": null,
   "id": "2b891bcd",
   "metadata": {},
   "outputs": [],
   "source": []
  }
 ],
 "metadata": {
  "kernelspec": {
   "display_name": "Python 3 (ipykernel)",
   "language": "python",
   "name": "python3"
  },
  "language_info": {
   "codemirror_mode": {
    "name": "ipython",
    "version": 3
   },
   "file_extension": ".py",
   "mimetype": "text/x-python",
   "name": "python",
   "nbconvert_exporter": "python",
   "pygments_lexer": "ipython3",
   "version": "3.9.7"
  }
 },
 "nbformat": 4,
 "nbformat_minor": 5
}
