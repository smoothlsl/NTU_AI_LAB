{
 "cells": [
  {
   "cell_type": "code",
   "execution_count": 13,
   "id": "42fc8971",
   "metadata": {},
   "outputs": [],
   "source": [
    "from flask import Flask"
   ]
  },
  {
   "cell_type": "code",
   "execution_count": 14,
   "id": "c4c5a94a",
   "metadata": {},
   "outputs": [],
   "source": [
    "app = Flask(__name__)"
   ]
  },
  {
   "cell_type": "code",
   "execution_count": 15,
   "id": "842197d6",
   "metadata": {},
   "outputs": [],
   "source": [
    "from flask import request, render_template\n",
    "import joblib\n",
    "@app.route(\"/\", methods=[\"GET\",\"POST\"])\n",
    "def init():\n",
    "    if request.method == \"POST\":\n",
    "        sugar = request.form.get(\"sugar\")\n",
    "        milk = request.form.get(\"milk\")\n",
    "        print(sugar,milk)\n",
    "        model = joblib.load(\"chocolateTaste\")\n",
    "        pred = model.predict([[sugar,milk]])\n",
    "        print(pred)\n",
    "        pred = pred[0]\n",
    "        i = \"We predict the chocolatetaste is : \"+ str(pred)\n",
    "        return(render_template(\"index.html\", result = i))\n",
    "    else:\n",
    "        return(render_template(\"index.html\", result = \" \"))"
   ]
  },
  {
   "cell_type": "code",
   "execution_count": 16,
   "id": "fe724adf",
   "metadata": {},
   "outputs": [
    {
     "name": "stdout",
     "output_type": "stream",
     "text": [
      " * Serving Flask app \"__main__\" (lazy loading)\n",
      " * Environment: production\n",
      "\u001b[31m   WARNING: This is a development server. Do not use it in a production deployment.\u001b[0m\n",
      "\u001b[2m   Use a production WSGI server instead.\u001b[0m\n",
      " * Debug mode: off\n"
     ]
    },
    {
     "name": "stderr",
     "output_type": "stream",
     "text": [
      " * Running on http://127.0.0.1:5000/ (Press CTRL+C to quit)\n",
      "127.0.0.1 - - [06/Feb/2022 14:31:16] \"GET / HTTP/1.1\" 200 -\n",
      "C:\\Users\\10642\\anaconda3\\lib\\site-packages\\sklearn\\utils\\validation.py:63: FutureWarning: Arrays of bytes/strings is being converted to decimal numbers if dtype='numeric'. This behavior is deprecated in 0.24 and will be removed in 1.1 (renaming of 0.26). Please convert your data to numeric values explicitly instead.\n",
      "  return f(*args, **kwargs)\n",
      "127.0.0.1 - - [06/Feb/2022 14:31:23] \"POST / HTTP/1.1\" 200 -\n"
     ]
    },
    {
     "name": "stdout",
     "output_type": "stream",
     "text": [
      "0.8 0.8\n",
      "[1]\n"
     ]
    }
   ],
   "source": [
    "app.run()"
   ]
  },
  {
   "cell_type": "code",
   "execution_count": null,
   "id": "e09aca25",
   "metadata": {},
   "outputs": [],
   "source": []
  }
 ],
 "metadata": {
  "kernelspec": {
   "display_name": "Python 3 (ipykernel)",
   "language": "python",
   "name": "python3"
  },
  "language_info": {
   "codemirror_mode": {
    "name": "ipython",
    "version": 3
   },
   "file_extension": ".py",
   "mimetype": "text/x-python",
   "name": "python",
   "nbconvert_exporter": "python",
   "pygments_lexer": "ipython3",
   "version": "3.9.7"
  }
 },
 "nbformat": 4,
 "nbformat_minor": 5
}
