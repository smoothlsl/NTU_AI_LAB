{
 "cells": [
  {
   "cell_type": "code",
   "execution_count": 1,
   "id": "93f5ce62",
   "metadata": {},
   "outputs": [],
   "source": [
    "import speech_recognition as sr"
   ]
  },
  {
   "cell_type": "code",
   "execution_count": 2,
   "id": "95732412",
   "metadata": {},
   "outputs": [],
   "source": [
    "a = sr.AudioFile(\"WelcomeWavFile.wav\")"
   ]
  },
  {
   "cell_type": "code",
   "execution_count": 3,
   "id": "24375dba",
   "metadata": {},
   "outputs": [],
   "source": [
    "with a as source:\n",
    "    al = sr.Recognizer().record(source)"
   ]
  },
  {
   "cell_type": "code",
   "execution_count": 4,
   "id": "656eda65",
   "metadata": {},
   "outputs": [
    {
     "name": "stdout",
     "output_type": "stream",
     "text": [
      "thank you for choosing the Olympus dictation management system the Olympus dictation management system gives you the power to manage your dictations transcriptions and document seamlessly and to improve the productivity of your daily work for example you can automatically send the dictation files or transcribed documents do your assistant ociosa via email or fdp if you're using the speech recognition software the speech recognition engine works in the background to support your document creation we hope you enjoy the simple flexible reliable and Secure Solutions from Olympus\n"
     ]
    }
   ],
   "source": [
    "print(sr.Recognizer().recognize_google(al))"
   ]
  },
  {
   "cell_type": "code",
   "execution_count": 5,
   "id": "2031fa75",
   "metadata": {},
   "outputs": [],
   "source": [
    "import winsound"
   ]
  },
  {
   "cell_type": "code",
   "execution_count": 7,
   "id": "03f25d30",
   "metadata": {},
   "outputs": [],
   "source": [
    "winsound.PlaySound(\"WelcomeWavFile.wav\", winsound.SND_FILENAME)"
   ]
  },
  {
   "cell_type": "code",
   "execution_count": null,
   "id": "d877bcf5",
   "metadata": {},
   "outputs": [],
   "source": []
  }
 ],
 "metadata": {
  "kernelspec": {
   "display_name": "Python 3 (ipykernel)",
   "language": "python",
   "name": "python3"
  },
  "language_info": {
   "codemirror_mode": {
    "name": "ipython",
    "version": 3
   },
   "file_extension": ".py",
   "mimetype": "text/x-python",
   "name": "python",
   "nbconvert_exporter": "python",
   "pygments_lexer": "ipython3",
   "version": "3.9.7"
  }
 },
 "nbformat": 4,
 "nbformat_minor": 5
}
